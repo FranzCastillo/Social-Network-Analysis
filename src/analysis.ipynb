{
 "cells": [
  {
   "metadata": {},
   "cell_type": "markdown",
   "source": "# Análisis de Redes Sociales",
   "id": "b1ba8e7e4676e821"
  },
  {
   "metadata": {
    "ExecuteTime": {
     "end_time": "2024-09-18T17:37:22.874069Z",
     "start_time": "2024-09-18T17:37:22.377125Z"
    }
   },
   "cell_type": "code",
   "source": [
    "import pandas as pd\n",
    "import numpy as np\n",
    "import matplotlib.pyplot as plt\n",
    "import seaborn as sns\n",
    "import networkx as nx\n",
    "import json\n",
    "import os\n",
    "import re\n",
    "from datetime import datetime\n",
    "from collections import Counter"
   ],
   "id": "5a5c7e9fd79694b4",
   "outputs": [],
   "execution_count": 1
  },
  {
   "metadata": {},
   "cell_type": "markdown",
   "source": "## 2. Carga de Archivos",
   "id": "f55792fb295fc4f5"
  },
  {
   "metadata": {
    "ExecuteTime": {
     "end_time": "2024-09-18T17:37:22.884851Z",
     "start_time": "2024-09-18T17:37:22.876069Z"
    }
   },
   "cell_type": "code",
   "source": [
    "data_path = 'data'\n",
    "files = os.listdir(data_path)\n",
    "files"
   ],
   "id": "702c7a242bfcc551",
   "outputs": [
    {
     "data": {
      "text/plain": [
       "['tioberny.txt', 'traficogt.txt']"
      ]
     },
     "execution_count": 2,
     "metadata": {},
     "output_type": "execute_result"
    }
   ],
   "execution_count": 2
  }
 ],
 "metadata": {
  "kernelspec": {
   "display_name": "Python 3",
   "language": "python",
   "name": "python3"
  },
  "language_info": {
   "codemirror_mode": {
    "name": "ipython",
    "version": 2
   },
   "file_extension": ".py",
   "mimetype": "text/x-python",
   "name": "python",
   "nbconvert_exporter": "python",
   "pygments_lexer": "ipython2",
   "version": "2.7.6"
  }
 },
 "nbformat": 4,
 "nbformat_minor": 5
}
