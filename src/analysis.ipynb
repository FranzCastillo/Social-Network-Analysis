{
 "cells": [
  {
   "metadata": {},
   "cell_type": "markdown",
   "source": "# Análisis de Redes Sociales",
   "id": "b1ba8e7e4676e821"
  },
  {
   "metadata": {
    "ExecuteTime": {
     "end_time": "2024-09-18T20:57:39.634071Z",
     "start_time": "2024-09-18T20:57:38.478342Z"
    }
   },
   "cell_type": "code",
   "source": [
    "import pandas as pd\n",
    "import numpy as np\n",
    "import matplotlib.pyplot as plt\n",
    "import seaborn as sns\n",
    "import networkx as nx\n",
    "import json\n",
    "import os\n",
    "import re\n",
    "import nltk\n",
    "from nltk.corpus import stopwords\n",
    "import string\n",
    "from unidecode import unidecode"
   ],
   "id": "5a5c7e9fd79694b4",
   "outputs": [],
   "execution_count": 1
  },
  {
   "metadata": {
    "ExecuteTime": {
     "end_time": "2024-09-18T20:59:04.153603Z",
     "start_time": "2024-09-18T20:57:39.637071Z"
    }
   },
   "cell_type": "code",
   "source": "nltk.download('stopwords')",
   "id": "7aaf4cc50c1d5352",
   "outputs": [
    {
     "name": "stderr",
     "output_type": "stream",
     "text": [
      "[nltk_data] Downloading package stopwords to\n",
      "[nltk_data]     C:\\Users\\casti\\AppData\\Roaming\\nltk_data...\n",
      "[nltk_data]   Package stopwords is already up-to-date!\n"
     ]
    },
    {
     "data": {
      "text/plain": [
       "True"
      ]
     },
     "execution_count": 2,
     "metadata": {},
     "output_type": "execute_result"
    }
   ],
   "execution_count": 2
  },
  {
   "metadata": {},
   "cell_type": "markdown",
   "source": "## 2. Carga de Archivos",
   "id": "f55792fb295fc4f5"
  },
  {
   "metadata": {
    "ExecuteTime": {
     "end_time": "2024-09-18T20:59:04.158724Z",
     "start_time": "2024-09-18T20:59:04.154662Z"
    }
   },
   "cell_type": "code",
   "source": [
    "def load_tweets(file_path):\n",
    "    tweets = []\n",
    "    with open(file_path, 'r', encoding='utf-16') as file:\n",
    "        for line in file:\n",
    "            line = line.strip()\n",
    "            tweets.append(json.loads(line))\n",
    "    return pd.DataFrame(tweets)"
   ],
   "id": "67c82819716e90b9",
   "outputs": [],
   "execution_count": 3
  },
  {
   "metadata": {
    "ExecuteTime": {
     "end_time": "2024-09-18T20:59:04.427003Z",
     "start_time": "2024-09-18T20:59:04.160729Z"
    }
   },
   "cell_type": "code",
   "source": "df = load_tweets('data/tioberny.txt')",
   "id": "bdc09bc8f44c9895",
   "outputs": [],
   "execution_count": 4
  },
  {
   "metadata": {
    "ExecuteTime": {
     "end_time": "2024-09-18T20:59:04.452600Z",
     "start_time": "2024-09-18T20:59:04.428065Z"
    }
   },
   "cell_type": "code",
   "source": "df.head()",
   "id": "1b7c9602b2c1d7fd",
   "outputs": [
    {
     "data": {
      "text/plain": [
       "                    id               id_str  \\\n",
       "0  1834281080029110288  1834281080029110288   \n",
       "1  1834252464092069901  1834252464092069901   \n",
       "2  1834280919336976681  1834280919336976681   \n",
       "3  1834280512933732694  1834280512933732694   \n",
       "4  1834279986254987428  1834279986254987428   \n",
       "\n",
       "                                                 url  \\\n",
       "0  https://x.com/La_ReVoluZzion/status/1834281080...   \n",
       "1  https://x.com/XelaNewsGt/status/18342524640920...   \n",
       "2  https://x.com/M24095273/status/183428091933697...   \n",
       "3  https://x.com/carlosalbesc/status/183428051293...   \n",
       "4  https://x.com/Brenda_AGN/status/18342799862549...   \n",
       "\n",
       "                        date  \\\n",
       "0  2024-09-12 17:21:03+00:00   \n",
       "1  2024-09-12 15:27:20+00:00   \n",
       "2  2024-09-12 17:20:25+00:00   \n",
       "3  2024-09-12 17:18:48+00:00   \n",
       "4  2024-09-12 17:16:42+00:00   \n",
       "\n",
       "                                                user lang  \\\n",
       "0  {'id': 1435062946598694914, 'id_str': '1435062...   es   \n",
       "1  {'id': 956650778634145792, 'id_str': '95665077...   es   \n",
       "2  {'id': 1087057038755143680, 'id_str': '1087057...   es   \n",
       "3  {'id': 2881001877, 'id_str': '2881001877', 'ur...   es   \n",
       "4  {'id': 3013862206, 'id_str': '3013862206', 'ur...   es   \n",
       "\n",
       "                                          rawContent  replyCount  \\\n",
       "0  _\\nConfirmado Compañeres,\\n\\nEl impuesto por l...           0   \n",
       "1  #URGENTE Lo que los medios #faferos no informa...          12   \n",
       "2  @IvanDuque @BArevalodeLeon Con que usaste PEGA...           0   \n",
       "3  @IvanDuque @BArevalodeLeon Entre Ellos se enti...           0   \n",
       "4  El presidente @BArevalodeLeon y la vicepreside...           0   \n",
       "\n",
       "   retweetCount  likeCount  ...  coordinates  inReplyToTweetId  \\\n",
       "0             0          0  ...         None               NaN   \n",
       "1            80        142  ...         None               NaN   \n",
       "2             0          0  ...         None      1.834197e+18   \n",
       "3             0          0  ...         None      1.834197e+18   \n",
       "4             0          0  ...         None               NaN   \n",
       "\n",
       "   inReplyToTweetIdStr                                      inReplyToUser  \\\n",
       "0                 None                                               None   \n",
       "1                 None                                               None   \n",
       "2  1834197215415599186  {'id': 77653794, 'id_str': '77653794', 'userna...   \n",
       "3  1834197215415599186  {'id': 77653794, 'id_str': '77653794', 'userna...   \n",
       "4                 None                                               None   \n",
       "\n",
       "                                              source  \\\n",
       "0  <a href=\"http://twitter.com/download/android\" ...   \n",
       "1  <a href=\"https://mobile.twitter.com\" rel=\"nofo...   \n",
       "2  <a href=\"https://mobile.twitter.com\" rel=\"nofo...   \n",
       "3  <a href=\"http://twitter.com/download/android\" ...   \n",
       "4  <a href=\"http://twitter.com/download/android\" ...   \n",
       "\n",
       "                             sourceUrl          sourceLabel  \\\n",
       "0  http://twitter.com/download/android  Twitter for Android   \n",
       "1           https://mobile.twitter.com      Twitter Web App   \n",
       "2           https://mobile.twitter.com      Twitter Web App   \n",
       "3  http://twitter.com/download/android  Twitter for Android   \n",
       "4  http://twitter.com/download/android  Twitter for Android   \n",
       "\n",
       "                                               media  card  \\\n",
       "0       {'photos': [], 'videos': [], 'animated': []}  None   \n",
       "1  {'photos': [], 'videos': [{'thumbnailUrl': 'ht...  None   \n",
       "2       {'photos': [], 'videos': [], 'animated': []}  None   \n",
       "3       {'photos': [], 'videos': [], 'animated': []}  None   \n",
       "4  {'photos': [{'url': 'https://pbs.twimg.com/med...  None   \n",
       "\n",
       "                            _type  \n",
       "0  snscrape.modules.twitter.Tweet  \n",
       "1  snscrape.modules.twitter.Tweet  \n",
       "2  snscrape.modules.twitter.Tweet  \n",
       "3  snscrape.modules.twitter.Tweet  \n",
       "4  snscrape.modules.twitter.Tweet  \n",
       "\n",
       "[5 rows x 32 columns]"
      ],
      "text/html": [
       "<div>\n",
       "<style scoped>\n",
       "    .dataframe tbody tr th:only-of-type {\n",
       "        vertical-align: middle;\n",
       "    }\n",
       "\n",
       "    .dataframe tbody tr th {\n",
       "        vertical-align: top;\n",
       "    }\n",
       "\n",
       "    .dataframe thead th {\n",
       "        text-align: right;\n",
       "    }\n",
       "</style>\n",
       "<table border=\"1\" class=\"dataframe\">\n",
       "  <thead>\n",
       "    <tr style=\"text-align: right;\">\n",
       "      <th></th>\n",
       "      <th>id</th>\n",
       "      <th>id_str</th>\n",
       "      <th>url</th>\n",
       "      <th>date</th>\n",
       "      <th>user</th>\n",
       "      <th>lang</th>\n",
       "      <th>rawContent</th>\n",
       "      <th>replyCount</th>\n",
       "      <th>retweetCount</th>\n",
       "      <th>likeCount</th>\n",
       "      <th>...</th>\n",
       "      <th>coordinates</th>\n",
       "      <th>inReplyToTweetId</th>\n",
       "      <th>inReplyToTweetIdStr</th>\n",
       "      <th>inReplyToUser</th>\n",
       "      <th>source</th>\n",
       "      <th>sourceUrl</th>\n",
       "      <th>sourceLabel</th>\n",
       "      <th>media</th>\n",
       "      <th>card</th>\n",
       "      <th>_type</th>\n",
       "    </tr>\n",
       "  </thead>\n",
       "  <tbody>\n",
       "    <tr>\n",
       "      <th>0</th>\n",
       "      <td>1834281080029110288</td>\n",
       "      <td>1834281080029110288</td>\n",
       "      <td>https://x.com/La_ReVoluZzion/status/1834281080...</td>\n",
       "      <td>2024-09-12 17:21:03+00:00</td>\n",
       "      <td>{'id': 1435062946598694914, 'id_str': '1435062...</td>\n",
       "      <td>es</td>\n",
       "      <td>_\\nConfirmado Compañeres,\\n\\nEl impuesto por l...</td>\n",
       "      <td>0</td>\n",
       "      <td>0</td>\n",
       "      <td>0</td>\n",
       "      <td>...</td>\n",
       "      <td>None</td>\n",
       "      <td>NaN</td>\n",
       "      <td>None</td>\n",
       "      <td>None</td>\n",
       "      <td>&lt;a href=\"http://twitter.com/download/android\" ...</td>\n",
       "      <td>http://twitter.com/download/android</td>\n",
       "      <td>Twitter for Android</td>\n",
       "      <td>{'photos': [], 'videos': [], 'animated': []}</td>\n",
       "      <td>None</td>\n",
       "      <td>snscrape.modules.twitter.Tweet</td>\n",
       "    </tr>\n",
       "    <tr>\n",
       "      <th>1</th>\n",
       "      <td>1834252464092069901</td>\n",
       "      <td>1834252464092069901</td>\n",
       "      <td>https://x.com/XelaNewsGt/status/18342524640920...</td>\n",
       "      <td>2024-09-12 15:27:20+00:00</td>\n",
       "      <td>{'id': 956650778634145792, 'id_str': '95665077...</td>\n",
       "      <td>es</td>\n",
       "      <td>#URGENTE Lo que los medios #faferos no informa...</td>\n",
       "      <td>12</td>\n",
       "      <td>80</td>\n",
       "      <td>142</td>\n",
       "      <td>...</td>\n",
       "      <td>None</td>\n",
       "      <td>NaN</td>\n",
       "      <td>None</td>\n",
       "      <td>None</td>\n",
       "      <td>&lt;a href=\"https://mobile.twitter.com\" rel=\"nofo...</td>\n",
       "      <td>https://mobile.twitter.com</td>\n",
       "      <td>Twitter Web App</td>\n",
       "      <td>{'photos': [], 'videos': [{'thumbnailUrl': 'ht...</td>\n",
       "      <td>None</td>\n",
       "      <td>snscrape.modules.twitter.Tweet</td>\n",
       "    </tr>\n",
       "    <tr>\n",
       "      <th>2</th>\n",
       "      <td>1834280919336976681</td>\n",
       "      <td>1834280919336976681</td>\n",
       "      <td>https://x.com/M24095273/status/183428091933697...</td>\n",
       "      <td>2024-09-12 17:20:25+00:00</td>\n",
       "      <td>{'id': 1087057038755143680, 'id_str': '1087057...</td>\n",
       "      <td>es</td>\n",
       "      <td>@IvanDuque @BArevalodeLeon Con que usaste PEGA...</td>\n",
       "      <td>0</td>\n",
       "      <td>0</td>\n",
       "      <td>0</td>\n",
       "      <td>...</td>\n",
       "      <td>None</td>\n",
       "      <td>1.834197e+18</td>\n",
       "      <td>1834197215415599186</td>\n",
       "      <td>{'id': 77653794, 'id_str': '77653794', 'userna...</td>\n",
       "      <td>&lt;a href=\"https://mobile.twitter.com\" rel=\"nofo...</td>\n",
       "      <td>https://mobile.twitter.com</td>\n",
       "      <td>Twitter Web App</td>\n",
       "      <td>{'photos': [], 'videos': [], 'animated': []}</td>\n",
       "      <td>None</td>\n",
       "      <td>snscrape.modules.twitter.Tweet</td>\n",
       "    </tr>\n",
       "    <tr>\n",
       "      <th>3</th>\n",
       "      <td>1834280512933732694</td>\n",
       "      <td>1834280512933732694</td>\n",
       "      <td>https://x.com/carlosalbesc/status/183428051293...</td>\n",
       "      <td>2024-09-12 17:18:48+00:00</td>\n",
       "      <td>{'id': 2881001877, 'id_str': '2881001877', 'ur...</td>\n",
       "      <td>es</td>\n",
       "      <td>@IvanDuque @BArevalodeLeon Entre Ellos se enti...</td>\n",
       "      <td>0</td>\n",
       "      <td>0</td>\n",
       "      <td>0</td>\n",
       "      <td>...</td>\n",
       "      <td>None</td>\n",
       "      <td>1.834197e+18</td>\n",
       "      <td>1834197215415599186</td>\n",
       "      <td>{'id': 77653794, 'id_str': '77653794', 'userna...</td>\n",
       "      <td>&lt;a href=\"http://twitter.com/download/android\" ...</td>\n",
       "      <td>http://twitter.com/download/android</td>\n",
       "      <td>Twitter for Android</td>\n",
       "      <td>{'photos': [], 'videos': [], 'animated': []}</td>\n",
       "      <td>None</td>\n",
       "      <td>snscrape.modules.twitter.Tweet</td>\n",
       "    </tr>\n",
       "    <tr>\n",
       "      <th>4</th>\n",
       "      <td>1834279986254987428</td>\n",
       "      <td>1834279986254987428</td>\n",
       "      <td>https://x.com/Brenda_AGN/status/18342799862549...</td>\n",
       "      <td>2024-09-12 17:16:42+00:00</td>\n",
       "      <td>{'id': 3013862206, 'id_str': '3013862206', 'ur...</td>\n",
       "      <td>es</td>\n",
       "      <td>El presidente @BArevalodeLeon y la vicepreside...</td>\n",
       "      <td>0</td>\n",
       "      <td>0</td>\n",
       "      <td>0</td>\n",
       "      <td>...</td>\n",
       "      <td>None</td>\n",
       "      <td>NaN</td>\n",
       "      <td>None</td>\n",
       "      <td>None</td>\n",
       "      <td>&lt;a href=\"http://twitter.com/download/android\" ...</td>\n",
       "      <td>http://twitter.com/download/android</td>\n",
       "      <td>Twitter for Android</td>\n",
       "      <td>{'photos': [{'url': 'https://pbs.twimg.com/med...</td>\n",
       "      <td>None</td>\n",
       "      <td>snscrape.modules.twitter.Tweet</td>\n",
       "    </tr>\n",
       "  </tbody>\n",
       "</table>\n",
       "<p>5 rows × 32 columns</p>\n",
       "</div>"
      ]
     },
     "execution_count": 5,
     "metadata": {},
     "output_type": "execute_result"
    }
   ],
   "execution_count": 5
  },
  {
   "metadata": {},
   "cell_type": "markdown",
   "source": "## 3. Limpieza y Preprocesamiento de Datos",
   "id": "75c9a25c3f87b1b3"
  },
  {
   "metadata": {},
   "cell_type": "markdown",
   "source": "Convertir los JSONs anidados en columnas",
   "id": "21fe93c0a4dbc617"
  },
  {
   "metadata": {
    "ExecuteTime": {
     "end_time": "2024-09-18T20:59:04.459483Z",
     "start_time": "2024-09-18T20:59:04.454579Z"
    }
   },
   "cell_type": "code",
   "source": "nested_columns = ['user', 'retweetedTweet', 'quotedTweet', 'mentionedUsers', 'inReplyToUser', 'media']",
   "id": "927a7b94d3557cf4",
   "outputs": [],
   "execution_count": 6
  },
  {
   "metadata": {
    "ExecuteTime": {
     "end_time": "2024-09-18T20:59:04.466677Z",
     "start_time": "2024-09-18T20:59:04.460534Z"
    }
   },
   "cell_type": "code",
   "source": [
    "def parse_nested_json(x):\n",
    "    if isinstance(x, str):\n",
    "        try:\n",
    "            return json.loads(x.replace(\"'\", '\"'))\n",
    "        except json.JSONDecodeError:\n",
    "            return None\n",
    "    else:\n",
    "        return x"
   ],
   "id": "c0eaa6c72a84595d",
   "outputs": [],
   "execution_count": 7
  },
  {
   "metadata": {
    "ExecuteTime": {
     "end_time": "2024-09-18T20:59:04.485409Z",
     "start_time": "2024-09-18T20:59:04.468674Z"
    }
   },
   "cell_type": "code",
   "source": [
    "for column in nested_columns:\n",
    "    if column in df.columns:\n",
    "        df[column] = df[column].apply(parse_nested_json)"
   ],
   "id": "3e67a42fd0da34f4",
   "outputs": [],
   "execution_count": 8
  },
  {
   "metadata": {},
   "cell_type": "markdown",
   "source": "Convertir la columna de fecha a formato datetime",
   "id": "6a0ed0fde87e42f1"
  },
  {
   "metadata": {
    "ExecuteTime": {
     "end_time": "2024-09-18T20:59:04.500591Z",
     "start_time": "2024-09-18T20:59:04.486408Z"
    }
   },
   "cell_type": "code",
   "source": "df['date'] = pd.to_datetime(df['date'])",
   "id": "5e570313ba3700eb",
   "outputs": [],
   "execution_count": 9
  },
  {
   "metadata": {
    "ExecuteTime": {
     "end_time": "2024-09-18T20:59:04.512118Z",
     "start_time": "2024-09-18T20:59:04.504602Z"
    }
   },
   "cell_type": "code",
   "source": "stop_words = set(stopwords.words('spanish'))",
   "id": "f97f3526ddc0f9ae",
   "outputs": [],
   "execution_count": 10
  },
  {
   "metadata": {},
   "cell_type": "markdown",
   "source": "Definimos el preprocesamiento de texto",
   "id": "c809d531428f0aab"
  },
  {
   "metadata": {
    "ExecuteTime": {
     "end_time": "2024-09-18T20:59:04.518950Z",
     "start_time": "2024-09-18T20:59:04.513691Z"
    }
   },
   "cell_type": "code",
   "source": [
    "def preprocess_text(text):\n",
    "    # Convertir el texto a minúsculas\n",
    "    text = text.lower()\n",
    "\n",
    "    # Quitar URLs\n",
    "    text = re.sub(r'http\\S+', '', text)\n",
    "\n",
    "    # Quitar caracteres especiales como `#`, `@` y apóstrofes\n",
    "    text = re.sub(r'[@#\\'’]', '', text)\n",
    "\n",
    "    # Quitar números\n",
    "    text = re.sub(r'\\d+', '', text)\n",
    "\n",
    "    # Quitar signos de puntuación\n",
    "    text = text.translate(str.maketrans('', '', string.punctuation))\n",
    "\n",
    "    # Normalizar caracteres acentuados\n",
    "    text = unidecode(text)\n",
    "\n",
    "    # Quitar stopwords\n",
    "    text = ' '.join([word for word in text.split() if word not in stop_words])\n",
    "\n",
    "    return text"
   ],
   "id": "3a07c5a3bf59d47e",
   "outputs": [],
   "execution_count": 11
  },
  {
   "metadata": {},
   "cell_type": "markdown",
   "source": "Aplicar preprocesamiento de texto",
   "id": "4b87cd758d6ffce2"
  },
  {
   "metadata": {
    "ExecuteTime": {
     "end_time": "2024-09-18T20:59:04.789073Z",
     "start_time": "2024-09-18T20:59:04.519962Z"
    }
   },
   "cell_type": "code",
   "source": "df['processed_text'] = df['rawContent'].apply(preprocess_text)",
   "id": "18c877bca47ed086",
   "outputs": [],
   "execution_count": 12
  },
  {
   "metadata": {
    "ExecuteTime": {
     "end_time": "2024-09-18T20:59:04.804527Z",
     "start_time": "2024-09-18T20:59:04.790114Z"
    }
   },
   "cell_type": "code",
   "source": [
    "# Extracción de menciones de usuarios\n",
    "df['mentioned_users'] = df['mentionedUsers'].apply(lambda users: [user['username'] for user in users])\n",
    "\n",
    "# Identificar si es un retweet o respuesta y las interacciones\n",
    "df['is_retweet'] = df['retweetedTweet'].apply(lambda x: pd.notnull(x))\n",
    "df['is_reply'] = df['inReplyToTweetId'].apply(lambda x: pd.notnull(x))"
   ],
   "id": "1ac8d7536487beed",
   "outputs": [],
   "execution_count": 13
  },
  {
   "metadata": {
    "ExecuteTime": {
     "end_time": "2024-09-18T20:59:04.829347Z",
     "start_time": "2024-09-18T20:59:04.805526Z"
    }
   },
   "cell_type": "code",
   "source": [
    "df = df.copy()\n",
    "\n",
    "# Normalizar nombres de usuario\n",
    "df.loc[:, 'user_normalized'] = df['user'].apply(lambda x: \n",
    "                                                x['username'].lower() \n",
    "                                                if isinstance(x, dict) # Si es un diccionario\n",
    "                                                else x\n",
    "                                                )\n",
    "\n",
    "# Normalizar las menciones de usuarios\n",
    "df.loc[:, 'mentioned_users_normalized'] = df['mentioned_users'].apply(lambda users: \n",
    "                                                                      [user.lower() for user in users]\n",
    "                                                                      )"
   ],
   "id": "84670df26c58cd3b",
   "outputs": [],
   "execution_count": 14
  },
  {
   "metadata": {
    "ExecuteTime": {
     "end_time": "2024-09-18T20:59:05.145681Z",
     "start_time": "2024-09-18T20:59:04.830346Z"
    }
   },
   "cell_type": "code",
   "source": [
    "edges = []\n",
    "\n",
    "# Crear relaciones de menciones y respuestas\n",
    "for _, row in df.iterrows():\n",
    "    if row['mentioned_users_normalized']:\n",
    "        for mentioned in row['mentioned_users_normalized']:\n",
    "            edges.append((row['user_normalized'], mentioned, 'mention'))\n",
    "\n",
    "    if row['is_reply']:\n",
    "        edges.append((row['user_normalized'], row['inReplyToTweetId'], 'reply'))\n",
    "\n",
    "edges_df = pd.DataFrame(edges, columns=['source', 'target', 'type'])"
   ],
   "id": "490ff772e82878f1",
   "outputs": [],
   "execution_count": 15
  },
  {
   "metadata": {
    "ExecuteTime": {
     "end_time": "2024-09-18T20:59:05.196088Z",
     "start_time": "2024-09-18T20:59:05.146733Z"
    }
   },
   "cell_type": "code",
   "source": "G = nx.from_pandas_edgelist(edges_df, source='source', target='target', edge_attr='type', create_using=nx.DiGraph())",
   "id": "ecc4edeb4539fee1",
   "outputs": [],
   "execution_count": 16
  },
  {
   "metadata": {
    "ExecuteTime": {
     "end_time": "2024-09-18T20:59:05.203736Z",
     "start_time": "2024-09-18T20:59:05.197063Z"
    }
   },
   "cell_type": "code",
   "source": "print(f\"Graph has {G.number_of_nodes()} nodes and {G.number_of_edges()} edges\")",
   "id": "95bf4380d613ad2b",
   "outputs": [
    {
     "name": "stdout",
     "output_type": "stream",
     "text": [
      "Graph has 3831 nodes and 14742 edges\n"
     ]
    }
   ],
   "execution_count": 17
  }
 ],
 "metadata": {
  "kernelspec": {
   "display_name": "Python 3",
   "language": "python",
   "name": "python3"
  },
  "language_info": {
   "codemirror_mode": {
    "name": "ipython",
    "version": 2
   },
   "file_extension": ".py",
   "mimetype": "text/x-python",
   "name": "python",
   "nbconvert_exporter": "python",
   "pygments_lexer": "ipython2",
   "version": "2.7.6"
  }
 },
 "nbformat": 4,
 "nbformat_minor": 5
}
